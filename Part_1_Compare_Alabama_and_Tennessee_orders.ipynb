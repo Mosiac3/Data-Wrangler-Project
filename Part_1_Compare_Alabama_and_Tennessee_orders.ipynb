{
 "cells": [
  {
   "cell_type": "markdown",
   "metadata": {},
   "source": [
    "# Part 1. Compare Alabama and Tennessee orders\n",
    "Background can be found at https://github.com/scottieb3/data_wrangling\n",
    "\n",
    "The goal is to find if Bigly AL and TN orders are different."
   ]
  },
  {
   "cell_type": "code",
   "execution_count": 1,
   "metadata": {
    "collapsed": true
   },
   "outputs": [],
   "source": [
    "import pandas as pd\n",
    "import numpy as np\n",
    "import matplotlib.pyplot as plt\n",
    "import seaborn as sns\n",
    "import scipy.stats as stats\n",
    "import math\n",
    "%matplotlib inline"
   ]
  },
  {
   "cell_type": "markdown",
   "metadata": {},
   "source": [
    "## 1. Load data"
   ]
  },
  {
   "cell_type": "code",
   "execution_count": 2,
   "metadata": {
    "collapsed": true
   },
   "outputs": [],
   "source": [
    "messages = pd.read_csv('messages.csv')\n",
    "orders = pd.read_csv('orders.csv')"
   ]
  },
  {
   "cell_type": "code",
   "execution_count": 3,
   "metadata": {
    "collapsed": false
   },
   "outputs": [
    {
     "data": {
      "text/html": [
       "<div>\n",
       "<table border=\"1\" class=\"dataframe\">\n",
       "  <thead>\n",
       "    <tr style=\"text-align: right;\">\n",
       "      <th></th>\n",
       "      <th>572987</th>\n",
       "      <th>completed_status</th>\n",
       "      <th>state</th>\n",
       "      <th>company_id</th>\n",
       "      <th>notary_id</th>\n",
       "      <th>total_notary_fee</th>\n",
       "      <th>city</th>\n",
       "      <th>appointment_date</th>\n",
       "      <th>product_name</th>\n",
       "      <th>travel_distance</th>\n",
       "      <th>docs_to_notary_sent</th>\n",
       "    </tr>\n",
       "  </thead>\n",
       "  <tbody>\n",
       "    <tr>\n",
       "      <th>0</th>\n",
       "      <td>528697</td>\n",
       "      <td>completed</td>\n",
       "      <td>TN</td>\n",
       "      <td>2</td>\n",
       "      <td>32983.0</td>\n",
       "      <td>-1.0</td>\n",
       "      <td>ANTIOCH</td>\n",
       "      <td>8/19/16</td>\n",
       "      <td>refinance</td>\n",
       "      <td>8.894987</td>\n",
       "      <td>sent_by_client</td>\n",
       "    </tr>\n",
       "    <tr>\n",
       "      <th>1</th>\n",
       "      <td>575639</td>\n",
       "      <td>canceled</td>\n",
       "      <td>AL</td>\n",
       "      <td>1</td>\n",
       "      <td>38245.0</td>\n",
       "      <td>90.0</td>\n",
       "      <td>Montgomery</td>\n",
       "      <td>8/25/16</td>\n",
       "      <td>refinance</td>\n",
       "      <td>12.093414</td>\n",
       "      <td>sent_by_client</td>\n",
       "    </tr>\n",
       "    <tr>\n",
       "      <th>2</th>\n",
       "      <td>575678</td>\n",
       "      <td>completed</td>\n",
       "      <td>AL</td>\n",
       "      <td>1</td>\n",
       "      <td>64953.0</td>\n",
       "      <td>115.0</td>\n",
       "      <td>Pell City</td>\n",
       "      <td>8/25/16</td>\n",
       "      <td>refinance</td>\n",
       "      <td>19.598051</td>\n",
       "      <td>sent_by_client</td>\n",
       "    </tr>\n",
       "    <tr>\n",
       "      <th>3</th>\n",
       "      <td>537379</td>\n",
       "      <td>completed</td>\n",
       "      <td>TN</td>\n",
       "      <td>3</td>\n",
       "      <td>33059.0</td>\n",
       "      <td>-1.0</td>\n",
       "      <td>Johnston City</td>\n",
       "      <td>8/10/16</td>\n",
       "      <td>purchase</td>\n",
       "      <td>12.307267</td>\n",
       "      <td>sent</td>\n",
       "    </tr>\n",
       "    <tr>\n",
       "      <th>4</th>\n",
       "      <td>537609</td>\n",
       "      <td>completed</td>\n",
       "      <td>TN</td>\n",
       "      <td>2</td>\n",
       "      <td>32974.0</td>\n",
       "      <td>-1.0</td>\n",
       "      <td>MEMPHIS</td>\n",
       "      <td>8/3/16</td>\n",
       "      <td>refinance</td>\n",
       "      <td>5.463610</td>\n",
       "      <td>sent_by_client</td>\n",
       "    </tr>\n",
       "  </tbody>\n",
       "</table>\n",
       "</div>"
      ],
      "text/plain": [
       "   572987 completed_status state  company_id  notary_id  total_notary_fee  \\\n",
       "0  528697        completed    TN           2    32983.0              -1.0   \n",
       "1  575639         canceled    AL           1    38245.0              90.0   \n",
       "2  575678        completed    AL           1    64953.0             115.0   \n",
       "3  537379        completed    TN           3    33059.0              -1.0   \n",
       "4  537609        completed    TN           2    32974.0              -1.0   \n",
       "\n",
       "            city appointment_date product_name  travel_distance  \\\n",
       "0        ANTIOCH          8/19/16    refinance         8.894987   \n",
       "1     Montgomery          8/25/16    refinance        12.093414   \n",
       "2      Pell City          8/25/16    refinance        19.598051   \n",
       "3  Johnston City          8/10/16     purchase        12.307267   \n",
       "4        MEMPHIS           8/3/16    refinance         5.463610   \n",
       "\n",
       "  docs_to_notary_sent  \n",
       "0      sent_by_client  \n",
       "1      sent_by_client  \n",
       "2      sent_by_client  \n",
       "3                sent  \n",
       "4      sent_by_client  "
      ]
     },
     "execution_count": 3,
     "metadata": {},
     "output_type": "execute_result"
    }
   ],
   "source": [
    "orders.head()"
   ]
  },
  {
   "cell_type": "code",
   "execution_count": 4,
   "metadata": {
    "collapsed": true
   },
   "outputs": [],
   "source": [
    "#typo in the first column name 572987 \n",
    "#fix the first column name \n",
    "orders.columns = ['order_id'] + list(orders.columns[1:])"
   ]
  },
  {
   "cell_type": "code",
   "execution_count": 5,
   "metadata": {
    "collapsed": false
   },
   "outputs": [
    {
     "data": {
      "text/plain": [
       "TN    165\n",
       "AL    132\n",
       "Name: state, dtype: int64"
      ]
     },
     "execution_count": 5,
     "metadata": {},
     "output_type": "execute_result"
    }
   ],
   "source": [
    "#find Bigly's orders\n",
    "Bigly = orders[orders.company_id == 1]\n",
    "Bigly.state.value_counts()"
   ]
  },
  {
   "cell_type": "code",
   "execution_count": 6,
   "metadata": {
    "collapsed": false
   },
   "outputs": [
    {
     "data": {
      "text/plain": [
       "order_id                0\n",
       "completed_status        0\n",
       "state                   0\n",
       "company_id              0\n",
       "notary_id              21\n",
       "total_notary_fee        0\n",
       "city                    0\n",
       "appointment_date        0\n",
       "product_name            0\n",
       "travel_distance        16\n",
       "docs_to_notary_sent    32\n",
       "dtype: int64"
      ]
     },
     "execution_count": 6,
     "metadata": {},
     "output_type": "execute_result"
    }
   ],
   "source": [
    "Bigly.isnull().sum()"
   ]
  },
  {
   "cell_type": "code",
   "execution_count": 7,
   "metadata": {
    "collapsed": false
   },
   "outputs": [],
   "source": [
    "AL = Bigly[Bigly.state == 'AL']\n",
    "TN = Bigly[Bigly.state == 'TN']"
   ]
  },
  {
   "cell_type": "markdown",
   "metadata": {},
   "source": [
    "## 2. Order statistics\n",
    "To compare AL and TN ordes, examine test statistics for each paramter in the orders table. The assumption is that the two orders are independent. All tests are evaluated at 95% confidence level.\n",
    "1. t-test : notary travel distance, total notary fee;\n",
    "2. chi-squared test : completed status, product category, appointment date."
   ]
  },
  {
   "cell_type": "markdown",
   "metadata": {},
   "source": [
    "### 1). Notary travel distance\n",
    "At 95% confidence level, there is no difference in the notary travel distance between the two orders. \n",
    "1. Calcualte the mean and standard deviation just to get a sense of the difference.\n",
    "2. f-test to compare variance. The obtained p value is larger than the significance level (0.05), so fail to reject the null hypothesis of equal variance.\n",
    "3. t-test to compare mean. The p value is larger than the significance level (0.05), so fail to reject the null hypothesis. "
   ]
  },
  {
   "cell_type": "code",
   "execution_count": 8,
   "metadata": {
    "collapsed": false
   },
   "outputs": [
    {
     "name": "stdout",
     "output_type": "stream",
     "text": [
      "AL: mean = 15.361803, std = 11.835865\n",
      "TN: mean = 14.490850 and std = 11.919738\n"
     ]
    }
   ],
   "source": [
    "#mean and std of distance\n",
    "Distance_AL = AL.travel_distance.dropna().as_matrix()\n",
    "Distance_TN = TN.travel_distance.dropna().as_matrix()\n",
    "print \"AL: mean = %f, std = %f\"%(Distance_AL.mean(), Distance_AL.std())\n",
    "print \"TN: mean = %f and std = %f\"%(Distance_TN.mean(), Distance_TN.std())"
   ]
  },
  {
   "cell_type": "code",
   "execution_count": 9,
   "metadata": {
    "collapsed": false
   },
   "outputs": [
    {
     "data": {
      "text/plain": [
       "0.46955175163335022"
      ]
     },
     "execution_count": 9,
     "metadata": {},
     "output_type": "execute_result"
    }
   ],
   "source": [
    "#f-test to compare variance \n",
    "X = Distance_AL\n",
    "Y = Distance_TN\n",
    "F = np.var(X) / np.var(Y)\n",
    "df1 = len(X) - 1 #degree of freedom\n",
    "df2 = len(Y) - 1\n",
    "stats.f.cdf(F, df1, df2)"
   ]
  },
  {
   "cell_type": "code",
   "execution_count": 10,
   "metadata": {
    "collapsed": false
   },
   "outputs": [
    {
     "data": {
      "text/plain": [
       "Ttest_indResult(statistic=0.60841517897863051, pvalue=0.54340714118440947)"
      ]
     },
     "execution_count": 10,
     "metadata": {},
     "output_type": "execute_result"
    }
   ],
   "source": [
    "#t-test to compare mean\n",
    "stats.ttest_ind(a=X, b=Y, equal_var=True)"
   ]
  },
  {
   "cell_type": "markdown",
   "metadata": {},
   "source": [
    "### 2). Total Notary Fee\n",
    "At 95% confidence level, the total notary fee between AL and TN are different.\n",
    "\n",
    "Follow the previous analysis of travel distance. First compare variance using f-test, and then compare mean using t-test. The p values in both tests are smaller than the significance level, so reject null hypothesis. "
   ]
  },
  {
   "cell_type": "code",
   "execution_count": 11,
   "metadata": {
    "collapsed": false
   },
   "outputs": [
    {
     "name": "stdout",
     "output_type": "stream",
     "text": [
      "AL: mean = 89.750000, std = 20.130399\n",
      "TN: mean = 84.175758 and std = 23.466792\n"
     ]
    }
   ],
   "source": [
    "#mean and std\n",
    "Fee_AL = AL.total_notary_fee.dropna().as_matrix()\n",
    "Fee_TN = TN.total_notary_fee.dropna().as_matrix()\n",
    "print \"AL: mean = %f, std = %f\"%(Fee_AL.mean(), Fee_AL.std())\n",
    "print \"TN: mean = %f and std = %f\"%(Fee_TN.mean(), Fee_TN.std())"
   ]
  },
  {
   "cell_type": "code",
   "execution_count": 12,
   "metadata": {
    "collapsed": false
   },
   "outputs": [
    {
     "data": {
      "text/plain": [
       "0.033812868491198973"
      ]
     },
     "execution_count": 12,
     "metadata": {},
     "output_type": "execute_result"
    }
   ],
   "source": [
    "#f-test to compare variance\n",
    "X = Fee_AL\n",
    "Y = Fee_TN\n",
    "F = np.var(X) / np.var(Y)\n",
    "df1 = len(X) - 1\n",
    "df2 = len(Y) - 1\n",
    "stats.f.cdf(F, df1, df2)"
   ]
  },
  {
   "cell_type": "code",
   "execution_count": 13,
   "metadata": {
    "collapsed": false
   },
   "outputs": [
    {
     "data": {
      "text/plain": [
       "Ttest_indResult(statistic=2.1946433075089229, pvalue=0.028972498024962757)"
      ]
     },
     "execution_count": 13,
     "metadata": {},
     "output_type": "execute_result"
    }
   ],
   "source": [
    "#t-test to compare mean\n",
    "stats.ttest_ind(a=X, b=Y, equal_var=False)"
   ]
  },
  {
   "cell_type": "markdown",
   "metadata": {},
   "source": [
    "### 3). Product category\n",
    "At 95% confidence level, the product category between the two orders are different. \n",
    "\n",
    "Chi-squared test to compare discrete samples. "
   ]
  },
  {
   "cell_type": "code",
   "execution_count": 14,
   "metadata": {
    "collapsed": false
   },
   "outputs": [
    {
     "name": "stdout",
     "output_type": "stream",
     "text": [
      "refinance    115\n",
      "purchase      17\n",
      "Name: product_name, dtype: int64\n",
      "132\n"
     ]
    }
   ],
   "source": [
    "print AL.product_name.value_counts()\n",
    "sum_AL = sum(AL.product_name.value_counts())\n",
    "print sum_AL"
   ]
  },
  {
   "cell_type": "code",
   "execution_count": 15,
   "metadata": {
    "collapsed": false
   },
   "outputs": [
    {
     "name": "stdout",
     "output_type": "stream",
     "text": [
      "refinance           100\n",
      "purchase             63\n",
      "reverse mortgage      2\n",
      "Name: product_name, dtype: int64\n",
      "165\n"
     ]
    }
   ],
   "source": [
    "print TN.product_name.value_counts()\n",
    "sum_TN = sum(TN.product_name.value_counts())\n",
    "print sum_TN"
   ]
  },
  {
   "cell_type": "code",
   "execution_count": 16,
   "metadata": {
    "collapsed": false
   },
   "outputs": [
    {
     "data": {
      "text/plain": [
       "Power_divergenceResult(statistic=38.092500000000001, pvalue=5.3495681442367345e-09)"
      ]
     },
     "execution_count": 16,
     "metadata": {},
     "output_type": "execute_result"
    }
   ],
   "source": [
    "#chi-squared test\n",
    "stats.chisquare(f_obs = np.array([115, 17, 0]), f_exp = np.array([100,63,2])*sum_AL/sum_TN)"
   ]
  },
  {
   "cell_type": "markdown",
   "metadata": {},
   "source": [
    "### 4). Completed Status\n",
    "At 95% confidence level, the completed status between the two states are different. AL tends to have more canceled orders.\n",
    "\n",
    "Chi-squared test to compare discrete samples. "
   ]
  },
  {
   "cell_type": "code",
   "execution_count": 17,
   "metadata": {
    "collapsed": false
   },
   "outputs": [
    {
     "name": "stdout",
     "output_type": "stream",
     "text": [
      "completed       78\n",
      "canceled        51\n",
      "did_not_sign     3\n",
      "Name: completed_status, dtype: int64\n",
      "Alabama has a signing rate of \"59%\"\n"
     ]
    }
   ],
   "source": [
    "print AL.completed_status.value_counts()\n",
    "print 'Alabama has a signing rate of \"{0:.0f}%\"'.format(AL[AL.completed_status=='completed'].shape[0]/float(sum_AL)*100)"
   ]
  },
  {
   "cell_type": "code",
   "execution_count": 18,
   "metadata": {
    "collapsed": false
   },
   "outputs": [
    {
     "name": "stdout",
     "output_type": "stream",
     "text": [
      "completed       149\n",
      "canceled         14\n",
      "did_not_sign      2\n",
      "Name: completed_status, dtype: int64\n",
      "Tennessee has a signing rate of \"90%\"\n"
     ]
    }
   ],
   "source": [
    "print TN.completed_status.value_counts()\n",
    "print 'Tennessee has a signing rate of \"{0:.0f}%\"'.format(TN[TN.completed_status=='completed'].shape[0]/float(sum_TN)*100)"
   ]
  },
  {
   "cell_type": "code",
   "execution_count": 19,
   "metadata": {
    "collapsed": false
   },
   "outputs": [
    {
     "data": {
      "text/plain": [
       "Power_divergenceResult(statistic=163.58059587471354, pvalue=3.0124852737674572e-36)"
      ]
     },
     "execution_count": 19,
     "metadata": {},
     "output_type": "execute_result"
    }
   ],
   "source": [
    "#chi-squared test \n",
    "stats.chisquare(f_obs = np.array([78,51,3]), f_exp = np.array([149,14,2])*sum_AL/sum_TN)"
   ]
  },
  {
   "cell_type": "markdown",
   "metadata": {},
   "source": [
    "### 5). How the docs are sent to notary\n",
    "At 95% confidence level, the way that the docs are sent to notary are different between the two orders.\n",
    "\n",
    "Chi-squared test to compare the way docs are sent to notary."
   ]
  },
  {
   "cell_type": "code",
   "execution_count": 20,
   "metadata": {
    "collapsed": false
   },
   "outputs": [
    {
     "name": "stdout",
     "output_type": "stream",
     "text": [
      "sent                 60\n",
      "sent_by_client       46\n",
      "emailed_to_notary     7\n",
      "direct_links          2\n",
      "overnighted           1\n",
      "Name: docs_to_notary_sent, dtype: int64\n",
      "116\n"
     ]
    }
   ],
   "source": [
    "print AL.docs_to_notary_sent.value_counts()\n",
    "sum_sent_AL = sum(AL.docs_to_notary_sent.value_counts())\n",
    "print sum_sent_AL"
   ]
  },
  {
   "cell_type": "code",
   "execution_count": 21,
   "metadata": {
    "collapsed": false
   },
   "outputs": [
    {
     "name": "stdout",
     "output_type": "stream",
     "text": [
      "sent                 83\n",
      "sent_by_client       53\n",
      "direct_links          8\n",
      "emailed_to_notary     4\n",
      "at_closing            1\n",
      "Name: docs_to_notary_sent, dtype: int64\n",
      "149\n"
     ]
    }
   ],
   "source": [
    "print TN.docs_to_notary_sent.value_counts()\n",
    "sum_sent_TN = sum(TN.docs_to_notary_sent.value_counts())\n",
    "print sum_sent_TN"
   ]
  },
  {
   "cell_type": "code",
   "execution_count": 22,
   "metadata": {
    "collapsed": false
   },
   "outputs": [
    {
     "data": {
      "text/plain": [
       "Power_divergenceResult(statistic=8.8597560975609753, pvalue=0.031214803695609718)"
      ]
     },
     "execution_count": 22,
     "metadata": {},
     "output_type": "execute_result"
    }
   ],
   "source": [
    "#chi-squared test \n",
    "stats.chisquare(f_obs = np.array([60,46,7,2]), f_exp = np.array([83,53,4,8])*sum_sent_AL/sum_sent_TN)"
   ]
  },
  {
   "cell_type": "markdown",
   "metadata": {},
   "source": [
    "### 6). Appointment Date\n",
    "At 95% confidence level, there is no difference of appointment dates between the two states.\n",
    "\n",
    "Appointment date are included for the completeness of the study. Mainly look at the year. Both states have all orderes in year 2016. "
   ]
  },
  {
   "cell_type": "code",
   "execution_count": 23,
   "metadata": {
    "collapsed": false
   },
   "outputs": [
    {
     "data": {
      "text/plain": [
       "16    132\n",
       "Name: appointment_date, dtype: int64"
      ]
     },
     "execution_count": 23,
     "metadata": {},
     "output_type": "execute_result"
    }
   ],
   "source": [
    "AL.appointment_date.apply(lambda x:x[-2:]).value_counts()"
   ]
  },
  {
   "cell_type": "code",
   "execution_count": 24,
   "metadata": {
    "collapsed": false
   },
   "outputs": [
    {
     "data": {
      "text/plain": [
       "16    165\n",
       "Name: appointment_date, dtype: int64"
      ]
     },
     "execution_count": 24,
     "metadata": {},
     "output_type": "execute_result"
    }
   ],
   "source": [
    "TN.appointment_date.apply(lambda x:x[-2:]).value_counts()"
   ]
  },
  {
   "cell_type": "markdown",
   "metadata": {},
   "source": [
    "## 3. Conclusion\n",
    "At 95% confidence level, the Bigly orders in Alabama and Tennessee are different, including the total notary fee, product catogory, completed status, and the way docs are sent to notary. \n",
    "\n",
    "In particular, the signing rate is lower in Alabama of < 60%, while the rate is > 90% in Tennessee. In addition, the two orders handle different product profiles, and they differ in the way that docs are sent to notaries. This implies that the two Bigly schedule teams may handle orders differently. \n",
    "\n",
    "The notary travel distance and appointment date seem consistent between the two orders."
   ]
  }
 ],
 "metadata": {
  "kernelspec": {
   "display_name": "Python 2",
   "language": "python",
   "name": "python2"
  },
  "language_info": {
   "codemirror_mode": {
    "name": "ipython",
    "version": 2
   },
   "file_extension": ".py",
   "mimetype": "text/x-python",
   "name": "python",
   "nbconvert_exporter": "python",
   "pygments_lexer": "ipython2",
   "version": "2.7.12"
  }
 },
 "nbformat": 4,
 "nbformat_minor": 0
}
